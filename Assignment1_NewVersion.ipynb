{
 "cells": [
  {
   "cell_type": "code",
   "execution_count": 1,
   "metadata": {},
   "outputs": [],
   "source": [
    "def get_datatable(startDate,endDate,isoregion):\n",
    "    \"\"\"\n",
    "    Web scarpping the data table from power calendar\n",
    "    Args:\n",
    "        startDate:string type, e.g '2018-2-1'\n",
    "        endDate:string type e.g '2019-12-20'\n",
    "        isoregion: string type, e.g. 'ERCOT'\n",
    "    Return a pandas dataframe\n",
    "    \"\"\"\n",
    "    import pandas as pd\n",
    "    import numpy as np\n",
    "    east = ['PJM','MISO','ERCOT','SPP','NYISO']\n",
    "    west = ['WECC','CAISO']\n",
    "    if isoregion in east:\n",
    "        region = 'ERCOT'\n",
    "    elif isoregion in west:\n",
    "        region = 'CAISO'\n",
    "    else:\n",
    "        raise ValueError('Incorrect ISO region name')\n",
    "    url = 'https://www.energygps.com/HomeTools/PowerCalendar?isoregion='+region+'&scale=m&aname=xl&startDate='+startDate+'&endDate='+endDate\n",
    "    df = pd.read_table(url)\n",
    "    #drop the columns with 'DISCLAIMER' info\n",
    "    df = df.drop(columns=['DISCLAIMER: ENERGY GPS HAS USED SOURCES AND METHODS THAT IT BELIEVES TO BE RELIABLE; HOWEVER, ENERGY GPS DOES NOT WARRANT THE CORRECTNESS, COMPLETENESS, CURRENTNESS, OR ACCURACY OF THE INFORMATION. IN NO EVENT SHALL ENERGY GPS BE LIABLE FOR ANY SPECIAL, INDIRECT, INCIDENTAL, CONSEQUENTIAL, OR PUNITIVE DAMAGES (INCLUDING WITHOUT LIMITATION DAMAGES FOR LOSS OF PROFITS, BUSINESS INTERRUPTION, LOSS OF DATA, OR LOSS OF BUSINESS INFORMATION), WHETHER BASED ON CONTRACT, TORT, OR OTHER LEGAL THEORY, IN CONNECTION WITH THIS REPORT OR THE USE OF OR INABILITY TO USE THE INFORMATION AND ANALYSIS CONTAINED IN IT.'])\n",
    "    #drop the region level index\n",
    "    df.index = df.index.droplevel(level=0)\n",
    "    #reset df index \n",
    "    df = df.reset_index()\n",
    "    #reset df columns names\n",
    "    df.columns = df.loc[0].values\n",
    "    df = df[1:]\n",
    "    df.rename(columns = {'Peak':'onpeak'}, inplace = True)\n",
    "    df.set_index(df['StartDate'],inplace=True)\n",
    "    df = df.rename(str.lower, axis='columns')\n",
    "    #set hours data to float type\n",
    "    for column in df.columns[2:11]:\n",
    "        df[column] = df[column].astype(float)\n",
    "    return df"
   ]
  },
  {
   "cell_type": "code",
   "execution_count": 2,
   "metadata": {},
   "outputs": [],
   "source": [
    "def get_hours(isoregion,peaktype,period):\n",
    "    \"\"\"\n",
    "    calculate hours during the given date\n",
    "    Args: \n",
    "       iso: a character, one of PJM, MISO, ERCOT, SPP, NYISO, WECC, CAISO\n",
    "       peak.type: a character, one of onpeak, offpeak, flat, 2*16H, 7*8\n",
    "       period: a character 4 types, daily, monthly, quarterly, annnually\n",
    "    Return a list:\n",
    "       isoregion\n",
    "       peaktype\n",
    "       startDate\n",
    "       endDate\n",
    "       numHour\n",
    "    \"\"\"\n",
    "    from datetime import datetime\n",
    "    import calendar\n",
    "    import holidays\n",
    "    from datetime import date,timedelta\n",
    "    us_holidays = holidays.US()\n",
    "    #calculate the yearly hours in different peak types and different iso region \n",
    "    if period[:4] =='Year':\n",
    "        startDate = date(int('20'+period[4:]),1,1)\n",
    "        endDate = date(int('20'+period[4:]),12,31)\n",
    "        daygenerator = [startDate + timedelta(x) for x in range((endDate - startDate).days+1)]\n",
    "        h_78 = sum(8 for day in daygenerator if day.weekday() < 7)\n",
    "        df = get_datatable('20'+period[4:]+'-1-1','20'+period[4:]+'-12-31',isoregion)\n",
    "        flat,onpeak,offpeak = [df[columns].sum() for columns in ['flat','onpeak','offpeak']]\n",
    "        if isoregion in ['CAISO','WECC']:\n",
    "            h_216 = sum(16 for day in daygenerator if ((day.weekday()==0)&(day in us_holidays))|(day.weekday()==6))\n",
    "        else:\n",
    "            h_216 = sum(16 for day in daygenerator if ((day.weekday()==0)&(day in us_holidays))|(day.weekday()>=5))\n",
    "    #calculate the quarterly hours in different peak types and different iso region \n",
    "    elif period[4] =='Q':\n",
    "        quarter = int(period[5])\n",
    "        df = get_datatable(period[:4]+'-1-1',period[:4]+'-12-31',isoregion)\n",
    "        flat,onpeak,offpeak = [df[df['quarter']==quarter][columns].sum() for columns in ['flat','onpeak','offpeak']]\n",
    "        from datetime import datetime\n",
    "        startDate = datetime.strptime(df[df['quarter']==quarter][\"startdate\"][0], '%Y-%m-%d')\n",
    "        endDate= datetime.strptime(df[df['quarter']==quarter][\"enddate\"][-1], '%Y-%m-%d')\n",
    "        daygenerator = [startDate + timedelta(x) for x in range((endDate - startDate).days+1)]\n",
    "        h_78 = sum(8 for day in daygenerator if day.weekday() < 7)\n",
    "        if isoregion in ['CAISO','WECC']:\n",
    "            h_216 = sum(16 for day in daygenerator if ((day.weekday()==0)&(day in us_holidays))|(day.weekday()==6))\n",
    "        else:\n",
    "            h_216 = sum(16 for day in daygenerator if ((day.weekday()==0)&(day in us_holidays))|(day.weekday()>=5))\n",
    "    #calculate the monthly hours in different peak types and different iso region (MISO's hours changes when enter daylight saving)\n",
    "    elif len(period)==5:\n",
    "        month = datetime.strptime(period[:3], '%b').month\n",
    "        year = int('20' + period[3:])\n",
    "        import calendar\n",
    "        lastday = calendar.monthrange(year, month)[1]\n",
    "        df = get_datatable(str(year)+'-'+str(month)+'-1',str(year)+'-'+str(month)+'-'+str(lastday),isoregion)\n",
    "        if (isoregion == 'MISO')&(year<=2007)&(4<=month<=10):\n",
    "            flat,onpeak,offpeak = [df[columns].sum() for columns in ['flat','onpeak','offpeak']]+1\n",
    "        elif (isoregion == 'MISO')&(year>2007)&(3<=month<=11):\n",
    "            flat,onpeak,offpeak = [df[columns].sum() for columns in ['flat','onpeak','offpeak']]+1\n",
    "        else:\n",
    "            startDate = date(year,month,1)\n",
    "            endDate = date(year,month,lastday)\n",
    "            daygenerator = [startDate + timedelta(x) for x in range((endDate - startDate).days+1)]\n",
    "            flat,onpeak,offpeak = [df[columns].sum() for columns in ['flat','onpeak','offpeak']]\n",
    "            h_78 = sum(8 for day in daygenerator if day.weekday() < 7)\n",
    "            if isoregion in ['CAISO','WECC']:\n",
    "                h_216 = sum(16 for day in daygenerator if ((day.weekday()==0)&(day in us_holidays))|(day.weekday()==6))\n",
    "            else:\n",
    "                h_216 = sum(16 for day in daygenerator if ((day.weekday()==0)&(day in us_holidays))|(day.weekday()>=5))\n",
    "    #calculate the daily hours in different peak types and different iso region\n",
    "    elif len(period)>=8:\n",
    "        startDate,endDate = period,period\n",
    "        df = get_datatable(startDate,endDate,isoregion)\n",
    "        flat,onpeak,offpeak = [df[columns].sum() for columns in ['flat','onpeak','offpeak']]\n",
    "        h_78 = 8\n",
    "        h_216 = df['1x16h']\n",
    "    #Translate the peaktype into hours data\n",
    "    if peaktype == 'flat':\n",
    "        hours = flat\n",
    "    elif peaktype == 'onpeak':\n",
    "        hours = onpeak;\n",
    "    elif peaktype == 'offpeak':\n",
    "        hours = offpeak\n",
    "    elif peaktype == '7*8':\n",
    "        hours = h_78\n",
    "    else:\n",
    "        hours = h_216    \n",
    "    return [isoregion,peaktype,str(startDate),str(endDate),int(hours)]"
   ]
  },
  {
   "cell_type": "code",
   "execution_count": 3,
   "metadata": {},
   "outputs": [
    {
     "name": "stdout",
     "output_type": "stream",
     "text": [
      "ISO: ERCOT \n",
      "Peak Type: onpeak \n",
      "Start Date: 2019-05-01 \n",
      "End Date 2019-05-31 \n",
      "Hours 352\n"
     ]
    }
   ],
   "source": [
    "#let's test the function!\n",
    "isoregion,peaktype,startDate,endDate,hours = get_hours('ERCOT','onpeak','May19')\n",
    "print('ISO:',isoregion,'\\nPeak Type:',peaktype,'\\nStart Date:',startDate,'\\nEnd Date',endDate,'\\nHours',hours)"
   ]
  },
  {
   "cell_type": "code",
   "execution_count": 4,
   "metadata": {},
   "outputs": [
    {
     "name": "stdout",
     "output_type": "stream",
     "text": [
      "ISO: WECC \n",
      "Peak Type: 7*8 \n",
      "Start Date: 2019-4-22 \n",
      "End Date 2019-4-22 \n",
      "Hours 8\n"
     ]
    }
   ],
   "source": [
    "isoregion,peaktype,startDate,endDate,hours = get_hours('WECC','7*8','2019-4-22')\n",
    "print('ISO:',isoregion,'\\nPeak Type:',peaktype,'\\nStart Date:',startDate,'\\nEnd Date',endDate,'\\nHours',hours)"
   ]
  },
  {
   "cell_type": "code",
   "execution_count": 5,
   "metadata": {},
   "outputs": [
    {
     "name": "stdout",
     "output_type": "stream",
     "text": [
      "ISO: CAISO \n",
      "Peak Type: flat \n",
      "Start Date: 2018-01-01 \n",
      "End Date 2018-12-31 \n",
      "Hours 8760\n"
     ]
    }
   ],
   "source": [
    "isoregion,peaktype,startDate,endDate,hours = get_hours('CAISO','flat','Year18')\n",
    "print('ISO:',isoregion,'\\nPeak Type:',peaktype,'\\nStart Date:',startDate,'\\nEnd Date',endDate,'\\nHours',hours)"
   ]
  },
  {
   "cell_type": "code",
   "execution_count": 6,
   "metadata": {
    "scrolled": true
   },
   "outputs": [
    {
     "name": "stdout",
     "output_type": "stream",
     "text": [
      "ISO: SPP \n",
      "Peak Type: offpeak \n",
      "Start Date: 2019-01-01 00:00:00 \n",
      "End Date 2019-03-31 00:00:00 \n",
      "Hours 1151\n"
     ]
    }
   ],
   "source": [
    "isoregion,peaktype,startDate,endDate,hours = get_hours('SPP','offpeak','2019Q1')\n",
    "print('ISO:',isoregion,'\\nPeak Type:',peaktype,'\\nStart Date:',startDate,'\\nEnd Date',endDate,'\\nHours',hours)"
   ]
  }
 ],
 "metadata": {
  "kernelspec": {
   "display_name": "Python 3",
   "language": "python",
   "name": "python3"
  },
  "language_info": {
   "codemirror_mode": {
    "name": "ipython",
    "version": 3
   },
   "file_extension": ".py",
   "mimetype": "text/x-python",
   "name": "python",
   "nbconvert_exporter": "python",
   "pygments_lexer": "ipython3",
   "version": "3.6.5"
  }
 },
 "nbformat": 4,
 "nbformat_minor": 2
}
